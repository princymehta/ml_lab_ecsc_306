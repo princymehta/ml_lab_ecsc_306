{
 "cells": [
  {
   "cell_type": "code",
   "execution_count": 3,
   "metadata": {},
   "outputs": [
    {
     "name": "stdout",
     "output_type": "stream",
     "text": [
      "49\n"
     ]
    }
   ],
   "source": [
    "import tensorflow as tf\n",
    "\n",
    "a=tf.constant(5)\n",
    "b=tf.constant(2)    \n",
    "#with tf.name_scope(\"Operations\"):\n",
    "with tf.name_scope(\"scope_one\"):\n",
    "        c=tf.square(a,name= \"a_square\")\n",
    "with tf.name_scope(\"scope_2\"):\n",
    "    d=tf.square(b,name=\"b_square\")\n",
    "with tf.name_scope(\"scope_3\"):\n",
    "    e=tf.multiply(a,b, name=\"multiply\")\n",
    "    f=tf.multiply(2,e,name=\"2ab\")\n",
    "with tf.name_scope(\"scope_4\"):\n",
    "    g=tf.add(c,d,name=\"a2_b2\")\n",
    "with tf.name_scope(\"scope_5\"):\n",
    "    \n",
    "    h=tf.add(g,f,name=\"result\")\n",
    "    \n",
    "\n",
    "\n",
    "with tf.Session() as sess:\n",
    "    writer = tf.summary.FileWriter(\"/tmp/tboard/out\", sess.graph)\n",
    "    print(sess.run(h))\n",
    "    writer.close()  "
   ]
  },
  {
   "cell_type": "code",
   "execution_count": 6,
   "metadata": {},
   "outputs": [
    {
     "name": "stdout",
     "output_type": "stream",
     "text": [
      "36\n"
     ]
    }
   ],
   "source": [
    "import tensorflow as tf\n",
    "\n",
    "a=tf.constant(5)\n",
    "b=tf.constant(2)\n",
    "c=tf.constant(3)\n",
    "#with tf.name_scope(\"Operations\"):\n",
    "with tf.name_scope(\"scope_one\"):\n",
    "        d=tf.square(a,name= \"a_square\")\n",
    "with tf.name_scope(\"scope_2\"):\n",
    "    e=tf.square(b,name=\"b_square\")\n",
    "with tf.name_scope(\"scope_3\"):\n",
    "     f=tf.square(c,name= \"c_square\")\n",
    "with tf.name_scope(\"scope_4\"):\n",
    "    g=tf.multiply(a,b, name=\"multiply\")\n",
    "    h=tf.multiply(2,g,name=\"2ab\")\n",
    "with tf.name_scope(\"scope_5\"):\n",
    "    i=tf.multiply(b,c, name=\"multiply\")\n",
    "    j=tf.multiply(2,i,name=\"2bc\")\n",
    "with tf.name_scope(\"scope_6\"):\n",
    "    k=tf.multiply(a,c, name=\"multiply\")\n",
    "    l=tf.multiply(2,k,name=\"2ac\")\n",
    "with tf.name_scope(\"scope_7\"):\n",
    "    m=tf.add(d,e,name=\"a2_b2\")\n",
    "    n=tf.add(m,f,name=\"m2_c2\")\n",
    "    o=tf.subtract(n,h,name=\"n_h\")\n",
    "    p=tf.subtract(o,j,name=\"o_h\")\n",
    "    q=tf.add(p,l,name=\"p_l\")\n",
    "    \n",
    "    \n",
    "with tf.Session() as sess:\n",
    "    writer = tf.summary.FileWriter(\"/tmp/tboard/out1\", sess.graph)\n",
    "    print(sess.run(q))\n",
    "    writer.close()  "
   ]
  },
  {
   "cell_type": "code",
   "execution_count": null,
   "metadata": {
    "collapsed": true
   },
   "outputs": [],
   "source": []
  }
 ],
 "metadata": {
  "kernelspec": {
   "display_name": "Python 3",
   "language": "python",
   "name": "python3"
  },
  "language_info": {
   "codemirror_mode": {
    "name": "ipython",
    "version": 3
   },
   "file_extension": ".py",
   "mimetype": "text/x-python",
   "name": "python",
   "nbconvert_exporter": "python",
   "pygments_lexer": "ipython3",
   "version": "3.6.1"
  }
 },
 "nbformat": 4,
 "nbformat_minor": 2
}
