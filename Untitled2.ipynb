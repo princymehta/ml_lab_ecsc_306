{
 "cells": [
  {
   "cell_type": "code",
   "execution_count": 5,
   "metadata": {},
   "outputs": [
    {
     "name": "stdout",
     "output_type": "stream",
     "text": [
      "3.0\n",
      "4.0\n",
      "8.0\n",
      "8.0\n",
      "1.0\n",
      "1.0\n"
     ]
    }
   ],
   "source": [
    "import tensorflow as tf\n",
    "\n",
    "x = tf.constant([1.0,3.0,5.0], name='x')\n",
    "y = tf.constant([2.0,4.0,6.0], name='y')\n",
    "\n",
    "model = tf.global_variables_initializer()\n",
    "\n",
    "\n",
    "\n",
    "s1=tf.constant(0)\n",
    "with tf.name_scope(\"mean_x\"):\n",
    "    with tf.Session() as sess:\n",
    "        for i in range(len(sess.run(x))):\n",
    "            out1 =sess.run(x[i])\n",
    "            s1=tf.add(s1,out1)\n",
    "        p=tf.divide(s1,len(sess.run(x)))\n",
    "        avg_x=sess.run(p)\n",
    "print(avg_x)\n",
    "\n",
    "\n",
    "s2=tf.constant(0)\n",
    "with tf.name_scope(\"mean_y\"):\n",
    "    with tf.Session() as sess:\n",
    "        for j in range(len(sess.run(y))):\n",
    "            out2 =sess.run(y[j])\n",
    "            s2=tf.add(s2,out2)\n",
    "        q=tf.divide(s2,len(sess.run(y)))\n",
    "        avg_y=sess.run(q)\n",
    "print(avg_y)\n",
    "\n",
    "\n",
    "\n",
    "#Calculate variance for x\n",
    "var=tf.constant(0.0)\n",
    "with tf.name_scope(\"variance\"):\n",
    "    with tf.Session() as sess:\n",
    "        for u in range(len(sess.run(x))):\n",
    "            a=tf.subtract(sess.run(x[u]),avg_x)\n",
    "            b=tf.square(a)\n",
    "            var=tf.add(var,b)\n",
    "        variance=sess.run(var)\n",
    "print(variance)\n",
    "\n",
    "\n",
    "\n",
    "#Calculate covariance of x & y\n",
    "s3=tf.constant(0.0)\n",
    "with tf.name_scope(\"covariance\"):\n",
    "    with tf.Session() as sess:\n",
    "        for k in range(len(sess.run(x))):\n",
    "            l=tf.subtract(sess.run(x[k]),avg_x)\n",
    "            o=tf.subtract(sess.run(y[k]),avg_y)\n",
    "            r=tf.multiply(l,o)\n",
    "            s3=tf.add(s3,r)\n",
    "        covariance=sess.run(s3)\n",
    "print(covariance)\n",
    "\n",
    "\n",
    "#value of m\n",
    "with tf.name_scope(\"value_of_m\"):\n",
    "    with tf.Session() as sess:\n",
    "        f=tf.divide(s3,var)\n",
    "        slope=sess.run(f)\n",
    "print(slope)\n",
    "\n",
    "\n",
    "#value of c\n",
    "with tf.name_scope(\"value_of_c\"):\n",
    "     with tf.Session() as sess:\n",
    "        z=tf.to_float(avg_y)\n",
    "        t=tf.multiply(f,avg_x)\n",
    "        coef=tf.subtract(z,t)\n",
    "        coeff=sess.run(coef)\n",
    "print(coeff)\n",
    "\n",
    "#with tf.Session() as sess:\n",
    "   # writer = tf.summary.FileWriter(\"/tmp/tboard/output\", sess.graph)"
   ]
  },
  {
   "cell_type": "code",
   "execution_count": 6,
   "metadata": {},
   "outputs": [],
   "source": [
    "import tensorflow as tf\n",
    "import numpy\n",
    "import matplotlib.pyplot as plt"
   ]
  },
  {
   "cell_type": "code",
   "execution_count": 7,
   "metadata": {},
   "outputs": [
    {
     "name": "stdout",
     "output_type": "stream",
     "text": [
      "[2.0, 4.0, 6.0]\n"
     ]
    },
    {
     "data": {
      "image/png": "[encoded data removed]",
      "text/plain": [
       "<matplotlib.figure.Figure at 0x7f98ad606240>"
      ]
     },
     "metadata": {},
     "output_type": "display_data"
    }
   ],
   "source": [
    "with tf.Session() as sess:\n",
    "    x1=sess.run(x)\n",
    "    y1=sess.run(y)\n",
    "train_X = numpy.asarray(x1)\n",
    "train_Y = numpy.asarray(y1)\n",
    "\n",
    "\n",
    "ranX=tf.constant([1.0,3.0,5.0])\n",
    "with tf.Session() as sess:\n",
    "    ranX1=sess.run(ranX)\n",
    "ranX2=numpy.asarray(ranX1)\n",
    "\n",
    "ranY=[0]*3\n",
    "    \n",
    "with tf.Session() as sess:\n",
    "        for v in range(len(sess.run(ranX))):\n",
    "            output = sess.run(ranX[v])\n",
    "            a=tf.multiply(output,slope)\n",
    "            b=tf.add(a,coeff)\n",
    "            ranY[v]=sess.run(b)\n",
    "print(ranY)\n",
    "\n",
    "\n",
    "\n",
    "plt.plot(train_X, train_Y, 'ro', label='Original data')\n",
    "plt.plot(ranX2, ranY, label='fitted line')\n",
    "plt.legend()\n",
    "plt.show()"
   ]
  },
  {
   "cell_type": "markdown",
   "metadata": {},
   "source": [
    "# PART 2"
   ]
  },
  {
   "cell_type": "code",
   "execution_count": 9,
   "metadata": {},
   "outputs": [
    {
     "name": "stdout",
     "output_type": "stream",
     "text": [
      "1.0\n"
     ]
    }
   ],
   "source": [
    "with tf.Session() as sess:\n",
    "    with tf.name_scope(\"Root_Mean_Square_Error\"):\n",
    "        res= tf.sqrt(tf.reduce_mean(tf.squared_difference(x, y)))\n",
    "    \n",
    "final=sess.run(res)\n",
    "print(final)\n",
    "\n",
    "\n",
    "with tf.Session() as sess:\n",
    "    writer = tf.summary.FileWriter(\"/tmp/tboard/o_008\", sess.graph)\n",
    "    writer.close()"
   ]
  },
  {
   "cell_type": "code",
   "execution_count": null,
   "metadata": {
    "collapsed": true
   },
   "outputs": [],
   "source": []
  }
 ],
 "metadata": {
  "kernelspec": {
   "display_name": "Python 3",
   "language": "python",
   "name": "python3"
  },
  "language_info": {
   "codemirror_mode": {
    "name": "ipython",
    "version": 3
   },
   "file_extension": ".py",
   "mimetype": "text/x-python",
   "name": "python",
   "nbconvert_exporter": "python",
   "pygments_lexer": "ipython3",
   "version": "3.6.1"
  }
 },
 "nbformat": 4,
 "nbformat_minor": 2
}
